{
 "cells": [
  {
   "cell_type": "markdown",
   "metadata": {},
   "source": [
    "# Capstone Project 1 - Group ID - 1026"
   ]
  },
  {
   "cell_type": "markdown",
   "metadata": {},
   "source": [
    "Amar Sheth, Soma, Ankit Nigam"
   ]
  },
  {
   "cell_type": "markdown",
   "metadata": {},
   "source": [
    "###### Import Packages"
   ]
  },
  {
   "cell_type": "code",
   "execution_count": null,
   "metadata": {},
   "outputs": [],
   "source": [
    "import mysql.connector\n",
    "from mysql.connector import Error\n",
    "\n",
    "import pandas as pd\n",
    "import pandas_profiling\n",
    "\n",
    "import datetime\n",
    "\n",
    "import matplotlib.pyplot as plt                                    # Plotting library for Python programming language and it's numerical mathematics extension NumPy\n",
    "import seaborn as sns                                              # Provides a high level interface for drawing attractive and informative statistical graphics\n",
    "%matplotlib inline\n",
    "sns.set()\n",
    "\n",
    "from subprocess import check_output\n",
    "\n",
    "from googletrans import Translator"
   ]
  },
  {
   "cell_type": "markdown",
   "metadata": {},
   "source": [
    "###### Define Variable"
   ]
  },
  {
   "cell_type": "code",
   "execution_count": null,
   "metadata": {},
   "outputs": [],
   "source": [
    "MYSQL_USER = MYSQL_PWD = \"student\"\n",
    "MYSQL_HOST = \"cpanel.insaid.co\"\n",
    "MYSQL_DB = \"Capstone1\""
   ]
  },
  {
   "cell_type": "markdown",
   "metadata": {},
   "source": [
    "###### Connect to Database function"
   ]
  },
  {
   "cell_type": "code",
   "execution_count": null,
   "metadata": {},
   "outputs": [],
   "source": [
    "def connect_db():\n",
    "    return mysql.connector.connect(\n",
    "        host=MYSQL_HOST,\n",
    "        user=MYSQL_USER,\n",
    "        passwd=MYSQL_PWD,\n",
    "        database=MYSQL_DB,\n",
    "        connect_timeout=1000000,\n",
    "        buffered=True\n",
    "    )"
   ]
  },
  {
   "cell_type": "markdown",
   "metadata": {},
   "source": [
    "###### Execute Query function"
   ]
  },
  {
   "cell_type": "code",
   "execution_count": null,
   "metadata": {},
   "outputs": [],
   "source": [
    "def execute_query(query, connection):\n",
    "    df = pd.read_sql(query, con = connection)\n",
    "    return df"
   ]
  },
  {
   "cell_type": "code",
   "execution_count": null,
   "metadata": {},
   "outputs": [],
   "source": [
    "def get_data(query):\n",
    "    df = pd.DataFrame()\n",
    "    try:\n",
    "        db_connection = connect_db()\n",
    "        cursor = db_connection.cursor(buffered=True)\n",
    "    \n",
    "        if db_connection.is_connected():\n",
    "            df = execute_query(query, db_connection)\n",
    "    \n",
    "    except Error as e:\n",
    "        print(\"Error while connecting to MySQL\", e)\n",
    "        print(\"Error code:\", e.errno)\n",
    "        print(\"Error message:\", e.msg)\n",
    "    finally:\n",
    "        if (db_connection.is_connected()):\n",
    "            cursor.close()\n",
    "            db_connection.close()\n",
    "            print(\"MySQL connection is closed\")\n",
    "    \n",
    "    return df"
   ]
  },
  {
   "cell_type": "markdown",
   "metadata": {},
   "source": [
    "###### Retreive Event Data"
   ]
  },
  {
   "cell_type": "code",
   "execution_count": null,
   "metadata": {},
   "outputs": [],
   "source": [
    "event_data_query_mp = \"SELECT event_id, CAST(device_Id AS CHAR) AS device_id, timestamp, longitude, latitude, city, state FROM events_data where state in ('MadhyaPradesh') \" \n",
    "df_event_data_mp = get_data(event_data_query_mp)\n",
    "df_event_data_mp.head()"
   ]
  },
  {
   "cell_type": "code",
   "execution_count": null,
   "metadata": {},
   "outputs": [],
   "source": [
    "event_data_query_other = \"SELECT event_id, CAST(device_Id AS CHAR) AS device_id, timestamp, longitude, latitude, city, state FROM events_data where state in ('Chhattisgarh', 'Uttaranchal', 'JammuandKashmir', 'JammuandKashmir', 'Goa', 'Nagaland') \" #where state in ('MadhyaPradesh')\n",
    "df_event_data_other = get_data(event_data_query_other)\n",
    "df_event_data_other.head()"
   ]
  },
  {
   "cell_type": "code",
   "execution_count": null,
   "metadata": {},
   "outputs": [],
   "source": [
    "df_event_data = pd.concat([df_event_data_mp, df_event_data_other])\n",
    "df_event_data.head()"
   ]
  },
  {
   "cell_type": "markdown",
   "metadata": {},
   "source": [
    "###### Retreive Gender Age Data"
   ]
  },
  {
   "cell_type": "code",
   "execution_count": null,
   "metadata": {},
   "outputs": [],
   "source": [
    "gender_age_train_query = \"SELECT CAST(device_Id AS CHAR) AS device_id, gender, age, `group` FROM gender_age_train WHERE device_id IN (SELECT DISTINCT device_id from events_data where state in ('MadhyaPradesh', 'Chhattisgarh', 'Uttaranchal', 'JammuandKashmir', 'JammuandKashmir', 'Goa', 'Nagaland')) \"\n",
    "df_gender_age_train = get_data(gender_age_train_query)\n",
    "df_gender_age_train"
   ]
  },
  {
   "cell_type": "markdown",
   "metadata": {},
   "source": [
    "###### Retreive Phone Brand Device Data"
   ]
  },
  {
   "cell_type": "code",
   "execution_count": null,
   "metadata": {},
   "outputs": [],
   "source": [
    "phone_brand_device_modal_query = \"SELECT CAST(device_Id AS CHAR) AS device_id, phone_brand, device_model FROM phone_brand_device_model WHERE device_id IN (SELECT DISTINCT device_id from events_data where state in ('MadhyaPradesh', 'Chhattisgarh', 'Uttaranchal', 'JammuandKashmir', 'JammuandKashmir', 'Goa', 'Nagaland')) \"\n",
    "df_phone_brand_device_modal = get_data(phone_brand_device_modal_query)\n",
    "df_phone_brand_device_modal"
   ]
  },
  {
   "cell_type": "markdown",
   "metadata": {},
   "source": [
    "###### Export to CSV"
   ]
  },
  {
   "cell_type": "code",
   "execution_count": null,
   "metadata": {},
   "outputs": [],
   "source": [
    "export_csv = df_event_data.to_csv (r'events_data_1026.csv', index = None, header=True)\n",
    "export_csv1 = df_gender_age_train.to_csv (r'gender_age_1026.csv', index = None, header=True)\n",
    "export_csv2 = df_phone_brand_device_modal.to_csv (r'phone_brand_1026.csv', index = None, header=True)"
   ]
  },
  {
   "cell_type": "markdown",
   "metadata": {},
   "source": [
    "### Data Profiling"
   ]
  },
  {
   "cell_type": "markdown",
   "metadata": {},
   "source": [
    "###### Gender Age"
   ]
  },
  {
   "cell_type": "code",
   "execution_count": null,
   "metadata": {},
   "outputs": [],
   "source": [
    "df_gender_age_train['age'].unique()"
   ]
  },
  {
   "cell_type": "code",
   "execution_count": null,
   "metadata": {},
   "outputs": [],
   "source": [
    "df_gender_age_train.info()"
   ]
  },
  {
   "cell_type": "code",
   "execution_count": null,
   "metadata": {},
   "outputs": [],
   "source": [
    "df_gender_age_train.describe()"
   ]
  },
  {
   "cell_type": "code",
   "execution_count": null,
   "metadata": {},
   "outputs": [],
   "source": [
    "df_gender_age_train.isnull().sum()"
   ]
  },
  {
   "cell_type": "code",
   "execution_count": null,
   "metadata": {},
   "outputs": [],
   "source": [
    "filename = \"gender_age_train_\" + datetime.datetime.now().strftime('%Y-%m-%d_%H:%M:%S') + \".html\"\n",
    "print(\"FileName - \" + filename)\n",
    "\n",
    "profile = pandas_profiling.ProfileReport(df_gender_age_train)\n",
    "profile.to_file(outputfile=\"gender_age_train.html\")"
   ]
  },
  {
   "cell_type": "code",
   "execution_count": null,
   "metadata": {},
   "outputs": [],
   "source": [
    "df_by_group = df_gender_age_train.groupby('group')\n",
    "df_by_group"
   ]
  },
  {
   "cell_type": "code",
   "execution_count": null,
   "metadata": {},
   "outputs": [],
   "source": [
    "df_by_group.describe()"
   ]
  },
  {
   "cell_type": "code",
   "execution_count": null,
   "metadata": {},
   "outputs": [],
   "source": [
    "df_by_group_1 = df_by_group.median()\n",
    "df_by_group_1.head()"
   ]
  },
  {
   "cell_type": "code",
   "execution_count": null,
   "metadata": {},
   "outputs": [],
   "source": [
    "group_age_dict = dict(tuple(df_by_group))\n",
    "print (group_age_dict)"
   ]
  },
  {
   "cell_type": "code",
   "execution_count": null,
   "metadata": {},
   "outputs": [],
   "source": [
    "Tot = 12\n",
    "Col = 2\n",
    "\n",
    "Rows = Tot // Col \n",
    "Rows += Tot % Col\n",
    "\n",
    "i=0\n",
    "\n",
    "fig, axs = plt.subplots(Rows, Col, figsize=(20,47)) # adjust the geometry based on your number of columns to plot\n",
    "for ax,col in zip(axs.flatten(), df_by_group_1.index):\n",
    "    df = group_age_dict.get(df_by_group_1.index[i])\n",
    "    sns.countplot(x=\"age\", data=df, ax=ax).set_title(col)\n",
    "    i=i+1\n",
    "\n",
    "plt.show()"
   ]
  },
  {
   "cell_type": "code",
   "execution_count": null,
   "metadata": {},
   "outputs": [],
   "source": [
    "df_gender_age_train.groupby(['group'])['group'].count()"
   ]
  },
  {
   "cell_type": "code",
   "execution_count": null,
   "metadata": {},
   "outputs": [],
   "source": [
    "plt.figure(figsize=(15,8))\n",
    "sns.countplot(x='group', data=df_gender_age_train).set_title('Count plot for group.')"
   ]
  },
  {
   "cell_type": "markdown",
   "metadata": {},
   "source": [
    "###### Phone Brand"
   ]
  },
  {
   "cell_type": "code",
   "execution_count": null,
   "metadata": {},
   "outputs": [],
   "source": []
  },
  {
   "cell_type": "code",
   "execution_count": null,
   "metadata": {},
   "outputs": [],
   "source": []
  },
  {
   "cell_type": "markdown",
   "metadata": {},
   "source": [
    "###### Event Data"
   ]
  },
  {
   "cell_type": "code",
   "execution_count": null,
   "metadata": {},
   "outputs": [],
   "source": [
    "df_event_data.info()"
   ]
  },
  {
   "cell_type": "code",
   "execution_count": null,
   "metadata": {},
   "outputs": [],
   "source": [
    "df_event_data.describe()"
   ]
  },
  {
   "cell_type": "code",
   "execution_count": null,
   "metadata": {},
   "outputs": [],
   "source": [
    "df_event_data.isnull().sum()"
   ]
  },
  {
   "cell_type": "code",
   "execution_count": null,
   "metadata": {},
   "outputs": [],
   "source": [
    "cols_to_check = ['longitude', 'latitude']\n",
    "df_event_data['is_na'] = df_event_data[cols_to_check].isnull().apply(lambda x: all(x), axis=1) \n",
    "df_event_data[df_event_data['is_na'] == True]"
   ]
  },
  {
   "cell_type": "code",
   "execution_count": null,
   "metadata": {},
   "outputs": [],
   "source": [
    "df_event_data[df_event_data['is_na'] == True]['device_id'].unique()"
   ]
  },
  {
   "cell_type": "code",
   "execution_count": null,
   "metadata": {},
   "outputs": [],
   "source": [
    "df_event_data[df_event_data['device_id'] == '2350979402202438478']"
   ]
  },
  {
   "cell_type": "code",
   "execution_count": null,
   "metadata": {},
   "outputs": [],
   "source": [
    "df_event_data[df_event_data['device_id'].isin(df_event_data[df_event_data['is_na'] == True]['device_id'].unique())]"
   ]
  },
  {
   "cell_type": "code",
   "execution_count": null,
   "metadata": {},
   "outputs": [],
   "source": [
    "df_event_data.groupby(['state', 'city'])['device_id'].count()"
   ]
  },
  {
   "cell_type": "code",
   "execution_count": null,
   "metadata": {},
   "outputs": [],
   "source": [
    "df_event_data.groupby(['state'])['city'].count()"
   ]
  },
  {
   "cell_type": "code",
   "execution_count": null,
   "metadata": {},
   "outputs": [],
   "source": [
    "nan_missing_lat_long_device_id_list = list(df_event_data[df_event_data['is_na'] == True]['device_id'].unique())"
   ]
  },
  {
   "cell_type": "code",
   "execution_count": null,
   "metadata": {},
   "outputs": [],
   "source": [
    "for id in nan_missing_lat_long_device_id_list:\n",
    "    device_id = df_event_data[((df_event_data['device_id'] == id) & (df_event_data['is_na'] == False))]['device_id'].unique()\n",
    "    longitude = df_event_data[((df_event_data['device_id'] == id) & (df_event_data['is_na'] == False))]['longitude'].unique()\n",
    "    latitude = df_event_data[((df_event_data['device_id'] == id) & (df_event_data['is_na'] == False))]['latitude'].unique()\n",
    "    print(device_id + \" -  \" + str(longitude) + \" -  \" + str(latitude))\n",
    "    df_event_data.loc[((df_event_data['device_id'] == id) & (df_event_data['is_na'] == True)), ['longitude']] = longitude\n",
    "    df_event_data.loc[((df_event_data['device_id'] == id) & (df_event_data['is_na'] == True)), ['latitude']] = latitude"
   ]
  },
  {
   "cell_type": "code",
   "execution_count": null,
   "metadata": {},
   "outputs": [],
   "source": [
    "cols_to_check = ['longitude', 'latitude']\n",
    "df_event_data_copy['is_na'] = df_event_data_copy[cols_to_check].isnull().apply(lambda x: all(x), axis=1) \n",
    "df_event_data_copy[df_event_data_copy['is_na'] == True]"
   ]
  }
 ],
 "metadata": {
  "kernelspec": {
   "display_name": "Python 3",
   "language": "python",
   "name": "python3"
  },
  "language_info": {
   "codemirror_mode": {
    "name": "ipython",
    "version": 3
   },
   "file_extension": ".py",
   "mimetype": "text/x-python",
   "name": "python",
   "nbconvert_exporter": "python",
   "pygments_lexer": "ipython3",
   "version": "3.7.4"
  }
 },
 "nbformat": 4,
 "nbformat_minor": 2
}
